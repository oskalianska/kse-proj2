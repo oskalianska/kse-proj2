{
  "nbformat": 4,
  "nbformat_minor": 0,
  "metadata": {
    "colab": {
      "name": "AB Testing.ipynb",
      "provenance": []
    },
    "kernelspec": {
      "name": "python3",
      "display_name": "Python 3"
    }
  },
  "cells": [
    {
      "cell_type": "markdown",
      "metadata": {
        "id": "djcVYKCA2yVt",
        "colab_type": "text"
      },
      "source": [
        "1. Experiment Overview\n",
        "2. Test Running\n",
        "3. Analyzing Data\n",
        "4. Conclusions & Recommendations\n"
      ]
    },
    {
      "cell_type": "code",
      "metadata": {
        "id": "tJDXR_1M_xPR",
        "colab_type": "code",
        "colab": {}
      },
      "source": [
        "import math as mt\n",
        "import numpy as np\n",
        "import pandas as pd\n",
        "from scipy.stats import norm\n",
        "import scipy.stats as scs\n",
        "import matplotlib.pyplot as plt\n",
        "from scipy import stats"
      ],
      "execution_count": 0,
      "outputs": []
    },
    {
      "cell_type": "markdown",
      "metadata": {
        "id": "MJQJWKclECRx",
        "colab_type": "text"
      },
      "source": [
        "###1. Experiment Overview"
      ]
    },
    {
      "cell_type": "markdown",
      "metadata": {
        "id": "s9McpOJzBzPY",
        "colab_type": "text"
      },
      "source": [
        "Experiment Name: Automated decision making in Loan management\n",
        "\n",
        "It is conducted by KD Bank, a bank in Ukraine dedicated to retail banking - with the overall business goal of maximizing profit and minimize number of risky loan applications\n",
        "\n",
        "1.1 Current Conditions Before Change \n",
        "\n",
        "* At the time of this experiment, KD Bank currently have loan managers that  classify manually safe or risky loan applications.\n",
        "* Managers decide about application status based on their intuition and feelings.\n",
        "\n",
        "1.2 Description of Experimented Change\n",
        "\n",
        "In the experiment, KD Bank tested a change where if bank use automated decision making based on decision tree learning algorithm. Instead of human (manager) decision company will use automated decision.\n",
        "\n",
        "1.3 Experiment Hypothesis \n",
        "\n",
        "* Null Hypothesis: Using automated decision making does not affect the number(probability) of loan returning\n",
        "\n",
        "* Alternative hypothesis: Using automated decision making affect the number (probability) of  loan returning\n",
        "\n",
        "1.3 Experiment Details\n",
        "\n",
        "Noting that such data is not publicly available we will generate dataset for this experiment. "
      ]
    },
    {
      "cell_type": "markdown",
      "metadata": {
        "id": "yBxxW6CDTen7",
        "colab_type": "text"
      },
      "source": [
        "### 2.Test Running"
      ]
    },
    {
      "cell_type": "markdown",
      "metadata": {
        "id": "PuMIZcgyTaxb",
        "colab_type": "text"
      },
      "source": [
        "We need two types of metrics for a successful experiment (or at least a safe one); Invariate and evaluation metrics. Before running the test, we will know the baseline conversion rate and the desired lift or increase in loan returning that we would like to test. "
      ]
    },
    {
      "cell_type": "code",
      "metadata": {
        "id": "vR-IdASoYcec",
        "colab_type": "code",
        "colab": {}
      },
      "source": [
        "bcr = 0.10  # baseline conversion rate\n",
        "d_hat = 0.02  # difference between the groups"
      ],
      "execution_count": 0,
      "outputs": []
    },
    {
      "cell_type": "markdown",
      "metadata": {
        "id": "zzVbxCnhZ8_r",
        "colab_type": "text"
      },
      "source": [
        "Initially, we will collect 1000 users for each group and loan manager will decide about loan in control group and an automated decision will  be in the test group."
      ]
    },
    {
      "cell_type": "code",
      "metadata": {
        "id": "EdzMwyKMZIrI",
        "colab_type": "code",
        "colab": {}
      },
      "source": [
        "# A is control; B is test\n",
        "N_A = 1000\n",
        "N_B = 1000"
      ],
      "execution_count": 0,
      "outputs": []
    },
    {
      "cell_type": "markdown",
      "metadata": {
        "id": "HmjZDX21ahwD",
        "colab_type": "text"
      },
      "source": [
        "Because we don't have real data, we will need “fake” data to work on. This function will generate data for our simulation."
      ]
    },
    {
      "cell_type": "code",
      "metadata": {
        "id": "7NQ6R4LdfQ5j",
        "colab_type": "code",
        "colab": {}
      },
      "source": [
        "def generate_data(N_A, N_B, p_A, p_B, days=None, control_label='A',\n",
        "                  test_label='B'):\n",
        "    \"\"\"Returns a pandas dataframe with fake CTR data\n",
        "\n",
        "    Example:\n",
        "\n",
        "    Parameters:\n",
        "        N_A (int): sample size for control group\n",
        "        N_B (int): sample size for test group\n",
        "            Note: final sample size may not match N_A provided because the\n",
        "            group at each row is chosen at random (50/50).\n",
        "        p_A (float): conversion rate; conversion rate of control group\n",
        "        p_B (float): conversion rate; conversion rate of test group\n",
        "        days (int): optional; if provided, a column for 'ts' will be included\n",
        "            to divide the data in chunks of time\n",
        "            Note: overflow data will be included in an extra day\n",
        "        control_label (str)\n",
        "        test_label (str)\n",
        "\n",
        "    Returns:\n",
        "        df (df)\n",
        "    \"\"\"\n",
        "\n",
        "    # initiate empty container\n",
        "    data = []\n",
        "\n",
        "    # total amount of rows in the data\n",
        "    N = N_A + N_B\n",
        "\n",
        "    # distribute events based on proportion of group size\n",
        "    group_bern = scs.bernoulli(N_A / (N_A + N_B))\n",
        "\n",
        "    # initiate bernoulli distributions from which to randomly sample\n",
        "    A_bern = scs.bernoulli(p_A)\n",
        "    B_bern = scs.bernoulli(p_B)\n",
        "\n",
        "    for idx in range(N):\n",
        "        # initite empty row\n",
        "        row = {}\n",
        "        # for 'ts' column\n",
        "        if days is not None:\n",
        "            if type(days) == int:\n",
        "                row['ts'] = idx // (N // days)\n",
        "            else:\n",
        "                raise ValueError(\"Provide an integer for the days parameter.\")\n",
        "        # assign group based on 50/50 probability\n",
        "        row['group'] = group_bern.rvs()\n",
        "\n",
        "        if row['group'] == 0:\n",
        "            # assign conversion based on provided parameters\n",
        "            row['converted'] = A_bern.rvs()\n",
        "        else:\n",
        "            row['converted'] = B_bern.rvs()\n",
        "        # collect row into data container\n",
        "        data.append(row)\n",
        "\n",
        "    # convert data into pandas dataframe\n",
        "    df = pd.DataFrame(data)\n",
        "\n",
        "    # transform group labels of 0s and 1s to user-defined group labels\n",
        "    df['group'] = df['group'].apply(\n",
        "        lambda x: control_label if x == 0 else test_label)\n",
        "\n",
        "    return df\n"
      ],
      "execution_count": 0,
      "outputs": []
    },
    {
      "cell_type": "markdown",
      "metadata": {
        "id": "yClzhCV6ZkPy",
        "colab_type": "text"
      },
      "source": [
        "The converted column indicates whether a customer return loan or not with a 1 or 0, respectively. The A group will be used for our control group and the B group will be our test group."
      ]
    },
    {
      "cell_type": "code",
      "metadata": {
        "id": "XWn8x9ouaHdp",
        "colab_type": "code",
        "colab": {
          "base_uri": "https://localhost:8080/",
          "height": 255
        },
        "outputId": "b75f3f71-a217-46b2-add2-7e70edb1ad18"
      },
      "source": [
        "ab_data = generate_data(N_A, N_B, bcr, d_hat)\n",
        "print(ab_data)"
      ],
      "execution_count": 85,
      "outputs": [
        {
          "output_type": "stream",
          "text": [
            "     group  converted\n",
            "0        A          0\n",
            "1        B          0\n",
            "2        A          0\n",
            "3        A          0\n",
            "4        A          0\n",
            "...    ...        ...\n",
            "1995     B          0\n",
            "1996     B          1\n",
            "1997     B          0\n",
            "1998     A          0\n",
            "1999     A          0\n",
            "\n",
            "[2000 rows x 2 columns]\n"
          ],
          "name": "stdout"
        }
      ]
    },
    {
      "cell_type": "markdown",
      "metadata": {
        "id": "clycMZ06bMrU",
        "colab_type": "text"
      },
      "source": [
        "Let’s look at a summary of the results using the pivot table function in Pandas."
      ]
    },
    {
      "cell_type": "code",
      "metadata": {
        "id": "tWuRtyzVg9wN",
        "colab_type": "code",
        "colab": {
          "base_uri": "https://localhost:8080/",
          "height": 142
        },
        "outputId": "bf0966de-8d50-447f-8d12-51f730d156fb"
      },
      "source": [
        "ab_summary = ab_data.pivot_table(values='converted', index='group', aggfunc=np.sum)\n",
        "# add additional columns to the pivot table\n",
        "ab_summary['total'] = ab_data.pivot_table(values='converted', index='group', aggfunc=lambda x: len(x))\n",
        "ab_summary['rate'] = ab_data.pivot_table(values='converted', index='group')\n",
        "ab_summary.head()"
      ],
      "execution_count": 86,
      "outputs": [
        {
          "output_type": "execute_result",
          "data": {
            "text/html": [
              "<div>\n",
              "<style scoped>\n",
              "    .dataframe tbody tr th:only-of-type {\n",
              "        vertical-align: middle;\n",
              "    }\n",
              "\n",
              "    .dataframe tbody tr th {\n",
              "        vertical-align: top;\n",
              "    }\n",
              "\n",
              "    .dataframe thead th {\n",
              "        text-align: right;\n",
              "    }\n",
              "</style>\n",
              "<table border=\"1\" class=\"dataframe\">\n",
              "  <thead>\n",
              "    <tr style=\"text-align: right;\">\n",
              "      <th></th>\n",
              "      <th>converted</th>\n",
              "      <th>total</th>\n",
              "      <th>rate</th>\n",
              "    </tr>\n",
              "    <tr>\n",
              "      <th>group</th>\n",
              "      <th></th>\n",
              "      <th></th>\n",
              "      <th></th>\n",
              "    </tr>\n",
              "  </thead>\n",
              "  <tbody>\n",
              "    <tr>\n",
              "      <th>A</th>\n",
              "      <td>113</td>\n",
              "      <td>1007</td>\n",
              "      <td>0.112214</td>\n",
              "    </tr>\n",
              "    <tr>\n",
              "      <th>B</th>\n",
              "      <td>12</td>\n",
              "      <td>993</td>\n",
              "      <td>0.012085</td>\n",
              "    </tr>\n",
              "  </tbody>\n",
              "</table>\n",
              "</div>"
            ],
            "text/plain": [
              "       converted  total      rate\n",
              "group                            \n",
              "A            113   1007  0.112214\n",
              "B             12    993  0.012085"
            ]
          },
          "metadata": {
            "tags": []
          },
          "execution_count": 86
        }
      ]
    },
    {
      "cell_type": "markdown",
      "metadata": {
        "id": "7mWzkGRaaVNK",
        "colab_type": "text"
      },
      "source": [
        "It looks like the difference in conversion rates between the two groups is -0.1 which is less than the lift we initially wanted of 0.02. At this point we have not measured how confident we are in this result. This can be mitigated by looking at the distributions of the two groups."
      ]
    },
    {
      "cell_type": "markdown",
      "metadata": {
        "id": "qrxQRiWqazfd",
        "colab_type": "text"
      },
      "source": [
        "### 3. Analyzing Data"
      ]
    },
    {
      "cell_type": "markdown",
      "metadata": {
        "id": "6yI_61cmbw3Y",
        "colab_type": "text"
      },
      "source": [
        "#### Binomial Distribution"
      ]
    },
    {
      "cell_type": "code",
      "metadata": {
        "id": "22bvIVJMjJVr",
        "colab_type": "code",
        "colab": {}
      },
      "source": [
        "A_group = ab_data[ab_data['group'] == 'A']\n",
        "B_group = ab_data[ab_data['group'] == 'B']"
      ],
      "execution_count": 0,
      "outputs": []
    },
    {
      "cell_type": "code",
      "metadata": {
        "id": "RRqsvjOrjSJb",
        "colab_type": "code",
        "colab": {
          "base_uri": "https://localhost:8080/",
          "height": 34
        },
        "outputId": "de4d357a-3411-40ca-cf9e-81a87c33fc83"
      },
      "source": [
        "A_converted, B_converted = A_group['converted'].sum(), B_group['converted'].sum()\n",
        "A_converted, B_converted"
      ],
      "execution_count": 88,
      "outputs": [
        {
          "output_type": "execute_result",
          "data": {
            "text/plain": [
              "(113, 12)"
            ]
          },
          "metadata": {
            "tags": []
          },
          "execution_count": 88
        }
      ]
    },
    {
      "cell_type": "code",
      "metadata": {
        "id": "YqVMlITGjUoc",
        "colab_type": "code",
        "colab": {
          "base_uri": "https://localhost:8080/",
          "height": 34
        },
        "outputId": "949c2aaa-8a11-482a-b151-9d723a187b38"
      },
      "source": [
        "A_total, B_total = len(A_group), len(B_group)\n",
        "A_total, B_total"
      ],
      "execution_count": 89,
      "outputs": [
        {
          "output_type": "execute_result",
          "data": {
            "text/plain": [
              "(1007, 993)"
            ]
          },
          "metadata": {
            "tags": []
          },
          "execution_count": 89
        }
      ]
    },
    {
      "cell_type": "code",
      "metadata": {
        "id": "qGoTm1BUjXEY",
        "colab_type": "code",
        "colab": {
          "base_uri": "https://localhost:8080/",
          "height": 34
        },
        "outputId": "1e4948a4-be55-4bb2-d821-81e04a2703a9"
      },
      "source": [
        "p_A, p_B = A_converted / A_total, B_converted / B_total\n",
        "p_A, p_B"
      ],
      "execution_count": 90,
      "outputs": [
        {
          "output_type": "execute_result",
          "data": {
            "text/plain": [
              "(0.11221449851042702, 0.012084592145015106)"
            ]
          },
          "metadata": {
            "tags": []
          },
          "execution_count": 90
        }
      ]
    },
    {
      "cell_type": "code",
      "metadata": {
        "id": "YftKz34Kja9r",
        "colab_type": "code",
        "colab": {}
      },
      "source": [
        "d_hat=p_B - p_A"
      ],
      "execution_count": 0,
      "outputs": []
    },
    {
      "cell_type": "code",
      "metadata": {
        "id": "Z87rMrg4jeK_",
        "colab_type": "code",
        "colab": {
          "base_uri": "https://localhost:8080/",
          "height": 142
        },
        "outputId": "8828093c-0aab-485d-b2e1-23b669f2f229"
      },
      "source": [
        "ab_summary = ab_data.pivot_table(values='converted', index='group', aggfunc=np.sum)\n",
        "ab_summary['total'] = ab_data.pivot_table(values='converted', index='group', aggfunc=lambda x: len(x))\n",
        "ab_summary['rate'] = ab_data.pivot_table(values='converted', index='group')\n",
        "ab_summary.head()"
      ],
      "execution_count": 92,
      "outputs": [
        {
          "output_type": "execute_result",
          "data": {
            "text/html": [
              "<div>\n",
              "<style scoped>\n",
              "    .dataframe tbody tr th:only-of-type {\n",
              "        vertical-align: middle;\n",
              "    }\n",
              "\n",
              "    .dataframe tbody tr th {\n",
              "        vertical-align: top;\n",
              "    }\n",
              "\n",
              "    .dataframe thead th {\n",
              "        text-align: right;\n",
              "    }\n",
              "</style>\n",
              "<table border=\"1\" class=\"dataframe\">\n",
              "  <thead>\n",
              "    <tr style=\"text-align: right;\">\n",
              "      <th></th>\n",
              "      <th>converted</th>\n",
              "      <th>total</th>\n",
              "      <th>rate</th>\n",
              "    </tr>\n",
              "    <tr>\n",
              "      <th>group</th>\n",
              "      <th></th>\n",
              "      <th></th>\n",
              "      <th></th>\n",
              "    </tr>\n",
              "  </thead>\n",
              "  <tbody>\n",
              "    <tr>\n",
              "      <th>A</th>\n",
              "      <td>113</td>\n",
              "      <td>1007</td>\n",
              "      <td>0.112214</td>\n",
              "    </tr>\n",
              "    <tr>\n",
              "      <th>B</th>\n",
              "      <td>12</td>\n",
              "      <td>993</td>\n",
              "      <td>0.012085</td>\n",
              "    </tr>\n",
              "  </tbody>\n",
              "</table>\n",
              "</div>"
            ],
            "text/plain": [
              "       converted  total      rate\n",
              "group                            \n",
              "A            113   1007  0.112214\n",
              "B             12    993  0.012085"
            ]
          },
          "metadata": {
            "tags": []
          },
          "execution_count": 92
        }
      ]
    },
    {
      "cell_type": "code",
      "metadata": {
        "id": "civCMt4gkOam",
        "colab_type": "code",
        "colab": {
          "base_uri": "https://localhost:8080/",
          "height": 375
        },
        "outputId": "c705f74b-1e51-4676-af16-c94daab6c9d4"
      },
      "source": [
        "fig, ax = plt.subplots(figsize=(12,6))\n",
        "xA = np.linspace(A_converted-49, A_converted+50, 100)\n",
        "yA = scs.binom(A_total, p_A).pmf(xA)\n",
        "ax.bar(xA, yA, alpha=0.5)\n",
        "xB = np.linspace(B_converted-49, B_converted+50, 100)\n",
        "yB = scs.binom(B_total, p_B).pmf(xB)\n",
        "ax.bar(xB, yB, alpha=0.5)\n",
        "plt.xlabel('converted')\n",
        "plt.ylabel('probability')"
      ],
      "execution_count": 93,
      "outputs": [
        {
          "output_type": "execute_result",
          "data": {
            "text/plain": [
              "Text(0, 0.5, 'probability')"
            ]
          },
          "metadata": {
            "tags": []
          },
          "execution_count": 93
        },
        {
          "output_type": "display_data",
          "data": {
            "image/png": "[encoded data removed]",
            "text/plain": [
              "<Figure size 864x432 with 1 Axes>"
            ]
          },
          "metadata": {
            "tags": []
          }
        }
      ]
    },
    {
      "cell_type": "markdown",
      "metadata": {
        "id": "-dBibgObcCYe",
        "colab_type": "text"
      },
      "source": [
        "We can see that the peak of the test group results is lower than the control group. How do we interpret the difference in peak probability? We should focus instead on the conversion rate so that we have an apples-to-apples comparison. In order to calculate this, we need to standardize the data and compare the probability of successes, p, for each group."
      ]
    },
    {
      "cell_type": "markdown",
      "metadata": {
        "id": "GFx7KVprcVHs",
        "colab_type": "text"
      },
      "source": [
        "#### Bernoulli Distribution and the Central Limit Theorem"
      ]
    },
    {
      "cell_type": "markdown",
      "metadata": {
        "id": "4VldBUDsekAa",
        "colab_type": "text"
      },
      "source": [
        "In order to calculate the difference between the two groups, we need to standardize the data. Because the number of samples might be different between the two groups, we should compare the probability of successes, p."
      ]
    },
    {
      "cell_type": "code",
      "metadata": {
        "id": "pTO_jlZUeKhH",
        "colab_type": "code",
        "colab": {
          "base_uri": "https://localhost:8080/",
          "height": 34
        },
        "outputId": "78359843-87a0-4ac2-b850-26e14c53ae2a"
      },
      "source": [
        "SE_A = np.sqrt(p_A * (1-p_A)) / np.sqrt(A_total)\n",
        "SE_A"
      ],
      "execution_count": 94,
      "outputs": [
        {
          "output_type": "execute_result",
          "data": {
            "text/plain": [
              "0.00994635086680144"
            ]
          },
          "metadata": {
            "tags": []
          },
          "execution_count": 94
        }
      ]
    },
    {
      "cell_type": "code",
      "metadata": {
        "id": "ZwBnkbF3eMso",
        "colab_type": "code",
        "colab": {
          "base_uri": "https://localhost:8080/",
          "height": 34
        },
        "outputId": "f2808d34-f730-4fd1-dfae-a4aa32a3cc68"
      },
      "source": [
        "SE_B = np.sqrt(p_B * (1-p_B)) / np.sqrt(B_total)\n",
        "SE_B"
      ],
      "execution_count": 95,
      "outputs": [
        {
          "output_type": "execute_result",
          "data": {
            "text/plain": [
              "0.0034673785161303925"
            ]
          },
          "metadata": {
            "tags": []
          },
          "execution_count": 95
        }
      ]
    },
    {
      "cell_type": "code",
      "metadata": {
        "id": "0qo5qMPTkUcG",
        "colab_type": "code",
        "colab": {
          "base_uri": "https://localhost:8080/",
          "height": 378
        },
        "outputId": "f3e04f8c-0877-4c47-9a8b-f5fb5c2917aa"
      },
      "source": [
        "fig, ax = plt.subplots(figsize=(12,6))\n",
        "xA = np.linspace(0, .2, 1000)\n",
        "yA = scs.norm(p_A, SE_A).pdf(xA)\n",
        "ax.plot(xA, yA)\n",
        "ax.axvline(x=p_A, c='red', alpha=0.5, linestyle='--')\n",
        "\n",
        "xB = np.linspace(0, .2, 1000)\n",
        "yB = scs.norm(p_B, SE_B).pdf(xB)\n",
        "ax.plot(xB, yB)\n",
        "ax.axvline(x=p_B, c='blue', alpha=0.5, linestyle='--')\n",
        "\n",
        "plt.xlabel('Converted Proportion')\n",
        "plt.ylabel('PDF')"
      ],
      "execution_count": 40,
      "outputs": [
        {
          "output_type": "execute_result",
          "data": {
            "text/plain": [
              "Text(0, 0.5, 'PDF')"
            ]
          },
          "metadata": {
            "tags": []
          },
          "execution_count": 40
        },
        {
          "output_type": "display_data",
          "data": {
            "image/png": "[encoded data removed]",
            "text/plain": [
              "<Figure size 864x432 with 1 Axes>"
            ]
          },
          "metadata": {
            "tags": []
          }
        }
      ]
    },
    {
      "cell_type": "markdown",
      "metadata": {
        "id": "ZbOQ88UBeY1Y",
        "colab_type": "text"
      },
      "source": [
        "The dashed lines represent the mean conversion rate for each group. The distance between the red dashed line and the blue dashed line is equal to d_hat."
      ]
    },
    {
      "cell_type": "markdown",
      "metadata": {
        "id": "asXZ_tkse7DG",
        "colab_type": "text"
      },
      "source": [
        "#### Compare the Null Hypothesis vs. the Alternative Hypothesis"
      ]
    },
    {
      "cell_type": "code",
      "metadata": {
        "id": "YKBje2aqkz8_",
        "colab_type": "code",
        "colab": {}
      },
      "source": [
        "def abplot(N_A, N_B, bcr, d_hat, sig_level=0.05, show_power=False,\n",
        "           show_alpha=False, show_beta=False, show_p_value=False,\n",
        "           show_legend=True):\n",
        "    \"\"\"Example plot of AB test\n",
        "    Example:\n",
        "        abplot(n=4000, bcr=0.11, d_hat=0.03)\n",
        "    Parameters:\n",
        "        n (int): total sample size for both control and test groups (N_A + N_B)\n",
        "        bcr (float): base conversion rate; conversion rate of control\n",
        "        d_hat: difference in conversion rate between the control and test\n",
        "            groups, sometimes referred to as **minimal detectable effect** when\n",
        "            calculating minimum sample size or **lift** when discussing\n",
        "            positive improvement desired from launching a change.\n",
        "    Returns:\n",
        "        None: the function plots an AB test as two distributions for\n",
        "        visualization purposes\n",
        "    \"\"\"\n",
        "    # create a plot object\n",
        "    fig, ax = plt.subplots(figsize=(12, 6))\n",
        "\n",
        "    # define parameters to find pooled standard error\n",
        "    X_A = bcr * N_A\n",
        "    X_B = (bcr + d_hat) * N_B\n",
        "    stderr = pooled_SE(N_A, N_B, X_A, X_B)\n",
        "\n",
        "    # plot the distribution of the null and alternative hypothesis\n",
        "    plot_null(ax, stderr)\n",
        "    plot_alt(ax, stderr, d_hat)\n",
        "\n",
        "    # set extent of plot area\n",
        "    ax.set_xlim(-8 * stderr, 8 * stderr)\n",
        "\n",
        "    # shade areas according to user input\n",
        "    if show_power:\n",
        "        show_area(ax, d_hat, stderr, sig_level, area_type='power')\n",
        "    if show_alpha:\n",
        "        show_area(ax, d_hat, stderr, sig_level, area_type='alpha')\n",
        "    if show_beta:\n",
        "        show_area(ax, d_hat, stderr, sig_level, area_type='beta')\n",
        "\n",
        "    # show p_value based on the binomial distributions for the two groups\n",
        "    if show_p_value:\n",
        "        null = ab_dist(stderr, 'control')\n",
        "        p_value = p_val(N_A, N_B, bcr, bcr+d_hat)\n",
        "        ax.text(3 * stderr, null.pdf(0),\n",
        "                'p-value = {0:.3f}'.format(p_value),\n",
        "                fontsize=12, ha='left')\n",
        "\n",
        "    # option to show legend\n",
        "    if show_legend:\n",
        "        plt.legend()\n",
        "\n",
        "    plt.xlabel('d')\n",
        "    plt.ylabel('PDF')\n",
        "    plt.show()"
      ],
      "execution_count": 0,
      "outputs": []
    },
    {
      "cell_type": "code",
      "metadata": {
        "id": "REGrY_krnJIU",
        "colab_type": "code",
        "colab": {}
      },
      "source": [
        "def abplot_CI_bars(N, X, sig_level=0.05, dmin=None):\n",
        "    \"\"\"Returns a confidence interval bar plot for multivariate tests\n",
        "\n",
        "    Parameters:\n",
        "        N (list or tuple): sample size for all groups\n",
        "        X (list or tuple): number of conversions for each variant\n",
        "        sig_level (float): significance level\n",
        "        dmin (float): minimum desired lift; a red and green dashed lines are\n",
        "            shown on the plot if dmin is provided.\n",
        "\n",
        "    Returns:\n",
        "        None: A plot of the confidence interval bars is returned inline.\n",
        "    \"\"\"\n",
        "\n",
        "    # initiate plot object\n",
        "    fig, ax = plt.subplots(figsize=(12, 3))\n",
        "\n",
        "    # get control group values\n",
        "    N_A = N[0]\n",
        "    X_A = X[0]\n",
        "\n",
        "    # initiate containers for standard error and differences\n",
        "    SE = []\n",
        "    d = []\n",
        "    # iterate through X and N and calculate d and SE\n",
        "    for idx in range(1, len(N)):\n",
        "        X_B = X[idx]\n",
        "        N_B = N[idx]\n",
        "        d.append(X_B / N_B - X_A / N_A)\n",
        "        SE.append(pooled_SE(N_A, N_B, X_A, X_B))\n",
        "\n",
        "    # convert to numpy arrays\n",
        "    SE = np.array(SE)\n",
        "    d = np.array(d)\n",
        "\n",
        "    y = np.arange(len(N)-1)\n",
        "\n",
        "    # get z value\n",
        "    z = z_val(sig_level)\n",
        "    # confidence interval values\n",
        "    ci = SE * z\n",
        "\n",
        "    # bar to represent the confidence interval\n",
        "    ax.hlines(y, d-ci, d+ci, color='blue', alpha=0.35, lw=10, zorder=1)\n",
        "    # marker for the mean\n",
        "    ax.scatter(d, y, s=300, marker='|', lw=10, color='magenta', zorder=2)\n",
        "\n",
        "    # vertical line to represent 0\n",
        "    ax.axvline(0, c='grey', linestyle='-')\n",
        "\n",
        "    # plot veritcal dashed lines if dmin is provided\n",
        "    if dmin is not None:\n",
        "        ax.axvline(-dmin, c='red', linestyle='--', alpha=0.75)\n",
        "        ax.axvline(dmin, c='green', linestyle='--', alpha=0.75)\n",
        "\n",
        "    # invert y axis to show variant 1 at the top\n",
        "    ax.invert_yaxis()\n",
        "    # label variants on y axis\n",
        "    labels = ['variant{}'.format(idx+1) for idx in range(len(N)-1)]\n",
        "    plt.yticks(np.arange(len(N)-1), labels)\n"
      ],
      "execution_count": 0,
      "outputs": []
    },
    {
      "cell_type": "code",
      "metadata": {
        "id": "dugF1Azkup-0",
        "colab_type": "code",
        "colab": {}
      },
      "source": [
        "def pooled_SE(N_A, N_B, X_A, X_B):\n",
        "    \"\"\"Returns the pooled standard error for two samples\"\"\"\n",
        "    p_hat = pooled_prob(N_A, N_B, X_A, X_B)\n",
        "    SE = np.sqrt(p_hat * (1 - p_hat) * (1 / N_A + 1 / N_B))\n",
        "    return SE\n",
        "\n",
        "\n",
        "def confidence_interval(sample_mean=0, sample_std=1, sample_size=1,\n",
        "                        sig_level=0.05):\n",
        "    \"\"\"Returns the confidence interval as a tuple\"\"\"\n",
        "    z = z_val(sig_level)\n",
        "\n",
        "    left = sample_mean - z * sample_std / np.sqrt(sample_size)\n",
        "    right = sample_mean + z * sample_std / np.sqrt(sample_size)\n",
        "\n",
        "    return (left, right)\n",
        "\n",
        "\n",
        "def z_val(sig_level=0.05, two_tailed=True):\n",
        "    \"\"\"Returns the z value for a given significance level\"\"\"\n",
        "    z_dist = scs.norm()\n",
        "    if two_tailed:\n",
        "        sig_level = sig_level/2\n",
        "        area = 1 - sig_level\n",
        "    else:\n",
        "        area = 1 - sig_level\n",
        "\n",
        "    z = z_dist.ppf(area)\n",
        "\n",
        "    return z\n",
        "\n",
        "def ab_dist(stderr, d_hat=0, group_type='control'):\n",
        "    \"\"\"Returns a distribution object depending on group type\n",
        "    Examples:\n",
        "    Parameters:\n",
        "        stderr (float): pooled standard error of two independent samples\n",
        "        d_hat (float): the mean difference between two independent samples\n",
        "        group_type (string): 'control' and 'test' are supported\n",
        "    Returns:\n",
        "        dist (scipy.stats distribution object)\n",
        "    \"\"\"\n",
        "    if group_type == 'control':\n",
        "        sample_mean = 0\n",
        "\n",
        "    elif group_type == 'test':\n",
        "        sample_mean = d_hat\n",
        "\n",
        "    # create a normal distribution which is dependent on mean and std dev\n",
        "    dist = scs.norm(sample_mean, stderr)\n",
        "    return dist  \n",
        "\n",
        "def p_val(N_A, N_B, p_A, p_B):\n",
        "    return scs.binom(N_A, p_A).pmf(p_B * N_B)   \n",
        "\n",
        "def pooled_prob(N_A, N_B, X_A, X_B):\n",
        "    \"\"\"Returns pooled probability for two samples\"\"\"\n",
        "    return (X_A + X_B) / (N_A + N_B)    \n",
        "\n",
        "def plot_null(ax, stderr):\n",
        "    \"\"\"Plots the null hypothesis distribution where if there is no real change,\n",
        "    the distribution of the differences between the test and the control groups\n",
        "    will be normally distributed.\n",
        "    The confidence band is also plotted.\n",
        "    Example:\n",
        "        plot_null(ax, stderr)\n",
        "    Parameters:\n",
        "        ax (matplotlib axes)\n",
        "        stderr (float): the pooled standard error of the control and test group\n",
        "    Returns:\n",
        "        None: the function adds a plot to the axes object provided\n",
        "    \"\"\"\n",
        "    plot_norm_dist(ax, 0, stderr, label=\"Null\")\n",
        "    plot_CI(ax, mu=0, s=stderr, sig_level=0.05)    \n",
        "\n",
        "def plot_norm_dist(ax, mu, std, with_CI=False, sig_level=0.05, label=None):\n",
        "    \"\"\"Adds a normal distribution to the axes provided\n",
        "    Example:\n",
        "        plot_norm_dist(ax, 0, 1)  # plots a standard normal distribution\n",
        "    Parameters:\n",
        "        ax (matplotlib axes)\n",
        "        mu (float): mean of the normal distribution\n",
        "        std (float): standard deviation of the normal distribution\n",
        "    Returns:\n",
        "        None: the function adds a plot to the axes object provided\n",
        "    \"\"\"\n",
        "    x = np.linspace(mu - 12 * std, mu + 12 * std, 1000)\n",
        "    y = scs.norm(mu, std).pdf(x)\n",
        "    ax.plot(x, y, label=label)\n",
        "\n",
        "    if with_CI:\n",
        "        plot_CI(ax, mu, std, sig_level=sig_level)    \n",
        "\n",
        "def plot_CI(ax, mu, s, sig_level=0.05, color='grey'):\n",
        "    \"\"\"Calculates the two-tailed confidence interval and adds the plot to\n",
        "    an axes object.\n",
        "    Example:\n",
        "        plot_CI(ax, mu=0, s=stderr, sig_level=0.05)\n",
        "    Parameters:\n",
        "        ax (matplotlib axes)\n",
        "        mu (float): mean\n",
        "        s (float): standard deviation\n",
        "    Returns:\n",
        "        None: the function adds a plot to the axes object provided\n",
        "    \"\"\"\n",
        "    left, right = confidence_interval(sample_mean=mu, sample_std=s,\n",
        "                                      sig_level=sig_level)\n",
        "    ax.axvline(left, c=color, linestyle='--', alpha=0.5)\n",
        "    ax.axvline(right, c=color, linestyle='--', alpha=0.5)   \n",
        "\n",
        "\n",
        "def plot_alt(ax, stderr, d_hat):\n",
        "    \"\"\"Plots the alternative hypothesis distribution where if there is a real\n",
        "    change, the distribution of the differences between the test and the\n",
        "    control groups will be normally distributed and centered around d_hat\n",
        "    The confidence band is also plotted.\n",
        "    Example:\n",
        "        plot_alt(ax, stderr, d_hat=0.025)\n",
        "    Parameters:\n",
        "        ax (matplotlib axes)\n",
        "        stderr (float): the pooled standard error of the control and test group\n",
        "    Returns:\n",
        "        None: the function adds a plot to the axes object provided\n",
        "    \"\"\"\n",
        "    plot_norm_dist(ax, d_hat, stderr, label=\"Alternative\")     \n",
        "\n",
        "def show_area(ax, d_hat, stderr, sig_level, area_type='power'):\n",
        "    \"\"\"Fill between upper significance boundary and distribution for\n",
        "    alternative hypothesis\n",
        "    \"\"\"\n",
        "    left, right = confidence_interval(sample_mean=0, sample_std=stderr,\n",
        "                                      sig_level=sig_level)\n",
        "    x = np.linspace(-12 * stderr, 12 * stderr, 1000)\n",
        "    null = ab_dist(stderr, 'control')\n",
        "    alternative = ab_dist(stderr, d_hat, 'test')\n",
        "\n",
        "    # if area_type is power\n",
        "    # Fill between upper significance boundary and distribution for alternative\n",
        "    # hypothesis\n",
        "    if area_type == 'power':\n",
        "        ax.fill_between(x, 0, alternative.pdf(x), color='green', alpha=0.25,\n",
        "                        where=(x > right))\n",
        "        ax.text(-3 * stderr, null.pdf(0),\n",
        "                'power = {0:.3f}'.format(1 - alternative.cdf(right)),\n",
        "                fontsize=12, ha='right', color='k')\n",
        "\n",
        "    # if area_type is alpha\n",
        "    # Fill between upper significance boundary and distribution for null\n",
        "    # hypothesis\n",
        "    if area_type == 'alpha':\n",
        "        ax.fill_between(x, 0, null.pdf(x), color='green', alpha=0.25,\n",
        "                        where=(x > right))\n",
        "        ax.text(-3 * stderr, null.pdf(0),\n",
        "                'alpha = {0:.3f}'.format(1 - null.cdf(right)),\n",
        "                fontsize=12, ha='right', color='k')\n",
        "\n",
        "    # if area_type is beta\n",
        "    # Fill between distribution for alternative hypothesis and upper\n",
        "    # significance boundary\n",
        "    if area_type == 'beta':\n",
        "        ax.fill_between(x, 0, alternative.pdf(x), color='green', alpha=0.25,\n",
        "                        where=(x < right))\n",
        "        ax.text(-3 * stderr, null.pdf(0),\n",
        "                'beta = {0:.3f}'.format(alternative.cdf(right)),\n",
        "                fontsize=12, ha='right', color='k')\n"
      ],
      "execution_count": 0,
      "outputs": []
    },
    {
      "cell_type": "code",
      "metadata": {
        "id": "SpHLRSUKi1na",
        "colab_type": "code",
        "colab": {}
      },
      "source": [
        "p_A = 0.10\n",
        "p_B = 0.12"
      ],
      "execution_count": 0,
      "outputs": []
    },
    {
      "cell_type": "code",
      "metadata": {
        "id": "YG_G7WU7gcKe",
        "colab_type": "code",
        "colab": {}
      },
      "source": [
        "bcr = p_A\n",
        "d_hat = p_B - p_A"
      ],
      "execution_count": 0,
      "outputs": []
    },
    {
      "cell_type": "code",
      "metadata": {
        "id": "AdWYS1IRgeLa",
        "colab_type": "code",
        "colab": {
          "base_uri": "https://localhost:8080/",
          "height": 34
        },
        "outputId": "658acef2-65aa-46e0-ab71-db163fed9e03"
      },
      "source": [
        "N_A, N_B, bcr, d_hat"
      ],
      "execution_count": 102,
      "outputs": [
        {
          "output_type": "execute_result",
          "data": {
            "text/plain": [
              "(1000, 1000, 0.1, 0.01999999999999999)"
            ]
          },
          "metadata": {
            "tags": []
          },
          "execution_count": 102
        }
      ]
    },
    {
      "cell_type": "code",
      "metadata": {
        "id": "4fuysyHylWnJ",
        "colab_type": "code",
        "colab": {
          "base_uri": "https://localhost:8080/",
          "height": 34
        },
        "outputId": "fe63df4c-89b8-403f-a4ac-f1d48e697cbb"
      },
      "source": [
        "d_hat = p_B - p_A\n",
        "print(d_hat)"
      ],
      "execution_count": 103,
      "outputs": [
        {
          "output_type": "stream",
          "text": [
            "0.01999999999999999\n"
          ],
          "name": "stdout"
        }
      ]
    },
    {
      "cell_type": "markdown",
      "metadata": {
        "id": "2gMs961GuqCf",
        "colab_type": "text"
      },
      "source": [
        "#### Statistical Power and Significance Level\n"
      ]
    },
    {
      "cell_type": "code",
      "metadata": {
        "id": "jshqcse9gmv8",
        "colab_type": "code",
        "colab": {
          "base_uri": "https://localhost:8080/",
          "height": 361
        },
        "outputId": "de89e302-05e8-4ddd-e098-c7ac53817116"
      },
      "source": [
        "abplot(N_A, N_B, bcr, d_hat, show_power=True)"
      ],
      "execution_count": 106,
      "outputs": [
        {
          "output_type": "display_data",
          "data": {
            "image/png": "[encoded data removed]",
            "text/plain": [
              "<Figure size 864x432 with 1 Axes>"
            ]
          },
          "metadata": {
            "tags": []
          }
        }
      ]
    },
    {
      "cell_type": "markdown",
      "metadata": {
        "id": "9wvCbK3YudXV",
        "colab_type": "text"
      },
      "source": [
        "The green shaded area represents the statistical power, and the calculated value for power is also displayed on the plot. The gray dashed lines in the plot above represent the confidence interval (95% for the plot above) for the null hypothesis. Statistical power is calculated by finding the area under the alternative hypothesis distribution and outside of the confidence interval of the null hypothesis."
      ]
    },
    {
      "cell_type": "code",
      "metadata": {
        "id": "m2XUtVdAggdX",
        "colab_type": "code",
        "colab": {
          "base_uri": "https://localhost:8080/",
          "height": 361
        },
        "outputId": "8ec3f830-8b13-482c-cdc3-caa18f9f2456"
      },
      "source": [
        "abplot(N_A, N_B, bcr, d_hat, show_beta=True)"
      ],
      "execution_count": 108,
      "outputs": [
        {
          "output_type": "display_data",
          "data": {
            "image/png": "[encoded data removed]",
            "text/plain": [
              "<Figure size 864x432 with 1 Axes>"
            ]
          },
          "metadata": {
            "tags": []
          }
        }
      ]
    },
    {
      "cell_type": "code",
      "metadata": {
        "id": "9vVD3YX0u8b3",
        "colab_type": "code",
        "colab": {
          "base_uri": "https://localhost:8080/",
          "height": 361
        },
        "outputId": "0207e360-b3d8-4488-d427-fb6555aba874"
      },
      "source": [
        "abplot(N_A, N_B, bcr, d_hat, show_alpha=True)"
      ],
      "execution_count": 109,
      "outputs": [
        {
          "output_type": "display_data",
          "data": {
            "image/png": "[encoded data removed]",
            "text/plain": [
              "<Figure size 864x432 with 1 Axes>"
            ]
          },
          "metadata": {
            "tags": []
          }
        }
      ]
    },
    {
      "cell_type": "markdown",
      "metadata": {
        "id": "mALXwseqvE-t",
        "colab_type": "text"
      },
      "source": [
        "A false positive is when we mistakenly conclude that the new design is better. This value is low because we want to limit this probability."
      ]
    },
    {
      "cell_type": "markdown",
      "metadata": {
        "id": "IxKzQKOAwUAi",
        "colab_type": "text"
      },
      "source": [
        "#### Minimum sample size"
      ]
    },
    {
      "cell_type": "code",
      "metadata": {
        "id": "_p9shY5wv4-a",
        "colab_type": "code",
        "colab": {}
      },
      "source": [
        "import scipy.stats as scs\n",
        "\n",
        "def min_sample_size(bcr, mde, power=0.8, sig_level=0.05):\n",
        "    \"\"\"Returns the minimum sample size to set up a split test\n",
        "    Arguments:\n",
        "        bcr (float): probability of success for control, sometimes\n",
        "        referred to as baseline conversion rate\n",
        "        mde (float): minimum change in measurement between control\n",
        "        group and test group if alternative hypothesis is true, sometimes\n",
        "        referred to as minimum detectable effect\n",
        "        power (float): probability of rejecting the null hypothesis when the\n",
        "        null hypothesis is false, typically 0.8\n",
        "        sig_level (float): significance level often denoted as alpha,\n",
        "        typically 0.05\n",
        "    Returns:\n",
        "        min_N: minimum sample size (float)\n",
        "    References:\n",
        "        Stanford lecture on sample sizes\n",
        "        http://statweb.stanford.edu/~susan/courses/s141/hopower.pdf\n",
        "    \"\"\"\n",
        "    # standard normal distribution to determine z-values\n",
        "    standard_norm = scs.norm(0, 1)\n",
        "\n",
        "    # find Z_beta from desired power\n",
        "    Z_beta = standard_norm.ppf(power)\n",
        "\n",
        "    # find Z_alpha\n",
        "    Z_alpha = standard_norm.ppf(1-sig_level/2)\n",
        "\n",
        "    # average of probabilities from both groups\n",
        "    pooled_prob = (bcr + bcr+mde) / 2\n",
        "\n",
        "    min_N = (2 * pooled_prob * (1 - pooled_prob) * (Z_beta + Z_alpha)**2\n",
        "             / mde**2)\n",
        "\n",
        "    return min_N"
      ],
      "execution_count": 0,
      "outputs": []
    },
    {
      "cell_type": "code",
      "metadata": {
        "id": "iCwPW9TDvzi0",
        "colab_type": "code",
        "colab": {
          "base_uri": "https://localhost:8080/",
          "height": 34
        },
        "outputId": "7c229481-c3b2-40a4-ea46-bb13d73d22f2"
      },
      "source": [
        "min_sample_size(bcr=0.10, mde=0.02)"
      ],
      "execution_count": 113,
      "outputs": [
        {
          "output_type": "execute_result",
          "data": {
            "text/plain": [
              "3842.026629963879"
            ]
          },
          "metadata": {
            "tags": []
          },
          "execution_count": 113
        }
      ]
    },
    {
      "cell_type": "code",
      "metadata": {
        "id": "aVNMiMeov-gZ",
        "colab_type": "code",
        "colab": {
          "base_uri": "https://localhost:8080/",
          "height": 361
        },
        "outputId": "e528535f-4718-4b33-c47f-3115d8712057"
      },
      "source": [
        "abplot(3843, 3843, 0.10, 0.02, show_power=True)"
      ],
      "execution_count": 114,
      "outputs": [
        {
          "output_type": "display_data",
          "data": {
            "image/png": "[encoded data removed]",
            "text/plain": [
              "<Figure size 864x432 with 1 Axes>"
            ]
          },
          "metadata": {
            "tags": []
          }
        }
      ]
    },
    {
      "cell_type": "markdown",
      "metadata": {
        "id": "bTKgaTCmwJet",
        "colab_type": "text"
      },
      "source": [
        "The calculated power for this sample size was approximately 0.80. Therefore, if our design change had an improvement in conversion of about 2 percent, we would need at least 3843 samples in each group for a statistical power of at least 0.80."
      ]
    }
  ]
}